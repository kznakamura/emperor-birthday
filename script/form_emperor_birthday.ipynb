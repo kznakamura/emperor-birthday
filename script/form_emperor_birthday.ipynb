{
 "cells": [
  {
   "cell_type": "code",
   "execution_count": 1,
   "metadata": {},
   "outputs": [
    {
     "name": "stdout",
     "output_type": "stream",
     "text": [
      "Welcome to JupyROOT 6.18/04\n"
     ]
    }
   ],
   "source": [
    "import pandas as pd\n",
    "import datetime as dt\n",
    "import numpy as np\n",
    "import ROOT as rt"
   ]
  },
  {
   "cell_type": "code",
   "execution_count": 2,
   "metadata": {},
   "outputs": [],
   "source": [
    "input_data=pd.read_csv('../data/emperor_from_wikipedia.csv')\n",
    "sliced_data=input_data.rename(columns={'生年月日 - 没年月日享年':'birthday'})['birthday']\n",
    "#print(sliced_data)\n",
    "extracted_birthday=sliced_data.str.extract('(\\d+)月(\\d+)日',expand=True)\n",
    "extracted_birthday.columns=['month','day']\n",
    "formed_birthday = pd.to_datetime('2020年'+extracted_birthday['month']+'月'+extracted_birthday['day']+'日', \n",
    "                                format='%Y年%m月%d日')\n",
    "#print(formed_birthday)\n",
    "standard_day = dt.datetime(2020, 1, 1)\n",
    "#print(standard_day)\n",
    "elapsed_day = formed_birthday - standard_day\n",
    "#print(elapsed_day)\n",
    "day_array = np.array(elapsed_day.dt.days.to_numpy(), dtype='float64')\n",
    "#print(day_array.dtype)\n",
    "generation = np.arange(0, len(day_array), dtype='float64')\n",
    "#print(generation)\n",
    "ofile = rt.TFile(\"../data/formed_csv_data.root\",\"recreate\")\n",
    "csv_tree = rt.TTree(\"csv_tree\",\"csv_tree\")\n",
    "csv_tree.Branch('generation', generation, f'generation[{len(day_array)}]/D')\n",
    "csv_tree.Branch('birthday', day_array, f'birthday[{len(day_array)}]/D')\n",
    "csv_tree.Fill()\n",
    "csv_tree.Write()\n",
    "ofile.Close()\n"
   ]
  },
  {
   "cell_type": "code",
   "execution_count": null,
   "metadata": {},
   "outputs": [],
   "source": []
  }
 ],
 "metadata": {
  "kernelspec": {
   "display_name": "Python 3",
   "language": "python",
   "name": "python3"
  },
  "language_info": {
   "codemirror_mode": {
    "name": "ipython",
    "version": 3
   },
   "file_extension": ".py",
   "mimetype": "text/x-python",
   "name": "python",
   "nbconvert_exporter": "python",
   "pygments_lexer": "ipython3",
   "version": "3.7.5"
  }
 },
 "nbformat": 4,
 "nbformat_minor": 2
}
